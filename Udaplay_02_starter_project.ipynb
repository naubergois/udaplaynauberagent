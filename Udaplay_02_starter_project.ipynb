{
 "cells": [
  {
   "cell_type": "markdown",
   "id": "6fdd0bcb",
   "metadata": {},
   "source": [
    "# [STARTER] Udaplay Project"
   ]
  },
  {
   "cell_type": "markdown",
   "id": "9325b035",
   "metadata": {},
   "source": [
    "## Part 02 - Agent\n",
    "\n",
    "In this part of the project, you'll use your VectorDB to be part of your Agent as a tool.\n",
    "\n",
    "You're building UdaPlay, an AI Research Agent for the video game industry. The agent will:\n",
    "1. Answer questions using internal knowledge (RAG)\n",
    "2. Search the web when needed\n",
    "3. Maintain conversation state\n",
    "4. Return structured outputs\n",
    "5. Store useful information for future use"
   ]
  },
  {
   "cell_type": "markdown",
   "id": "2b42de90",
   "metadata": {},
   "source": [
    "### Setup"
   ]
  },
  {
   "cell_type": "code",
   "execution_count": null,
   "id": "a963d4ca",
   "metadata": {},
   "outputs": [],
   "source": [
    "# Only needed for Udacity workspace\n",
    "\n",
    "import importlib.util\n",
    "import sys\n",
    "\n",
    "# Check if 'pysqlite3' is available before importing\n",
    "if importlib.util.find_spec(\"pysqlite3\") is not None:\n",
    "    import pysqlite3\n",
    "    sys.modules['sqlite3'] = sys.modules.pop('pysqlite3')"
   ]
  },
  {
   "cell_type": "code",
   "execution_count": null,
   "id": "fd10c06e",
   "metadata": {},
   "outputs": [],
   "source": [
    "import os",
    "from dotenv import load_dotenv",
    "from lib.game_tools import retrieve_game, evaluate_retrieval, game_web_search",
    "from lib.game_agent import GameAgent"
   ]
  },
  {
   "cell_type": "code",
   "execution_count": null,
   "id": "87e465d4",
   "metadata": {},
   "outputs": [],
   "source": [
    "load_dotenv()",
    "OPENAI_API_KEY = os.getenv(\"OPENAI_API_KEY\")",
    "TAVILY_API_KEY = os.getenv(\"TAVILY_API_KEY\")"
   ]
  },
  {
   "cell_type": "code",
   "execution_count": null,
   "id": "ce364221",
   "metadata": {},
   "outputs": [],
   "source": []
  },
  {
   "cell_type": "markdown",
   "id": "27de4729",
   "metadata": {},
   "source": [
    "### Tools"
   ]
  },
  {
   "cell_type": "markdown",
   "id": "46ab2dac",
   "metadata": {},
   "source": [
    "Build at least 3 tools:\n",
    "- retrieve_game: To search the vector DB\n",
    "- evaluate_retrieval: To assess the retrieval performance\n",
    "- game_web_search: If no good, search the web\n"
   ]
  },
  {
   "cell_type": "markdown",
   "id": "ce4f14cd",
   "metadata": {},
   "source": [
    "#### Retrieve Game Tool"
   ]
  },
  {
   "cell_type": "code",
   "execution_count": null,
   "id": "b25c36dd",
   "metadata": {},
   "outputs": [],
   "source": [
    "def retrieve_game(query: str) -> List[Dict]:",
    "    \"\"\"Search game information from the local vector database.\"\"\"",
    "    client = chromadb.PersistentClient(path=\"chromadb\")",
    "    collection = client.get_collection(\"udaplay\")",
    "    result = collection.query(query_texts=[query], n_results=3, include=[\"documents\", \"metadatas\"])",
    "    documents = result.get(\"documents\", [[]])[0]",
    "    metadatas = result.get(\"metadatas\", [[]])[0]",
    "    games = []",
    "    for doc, meta in zip(documents, metadatas):",
    "        game = {",
    "            \"Name\": meta.get(\"Name\"),",
    "            \"Platform\": meta.get(\"Platform\"),",
    "            \"YearOfRelease\": meta.get(\"YearOfRelease\"),",
    "            \"Description\": meta.get(\"Description\"),",
    "        }",
    "        games.append(game)",
    "    return games",
    "",
    "class EvaluationReport(BaseModel):",
    "    useful: bool"
   ]
  },
  {
   "cell_type": "markdown",
   "id": "910dc945",
   "metadata": {},
   "source": [
    "#### Evaluate Retrieval Tool"
   ]
  },
  {
   "cell_type": "code",
   "execution_count": null,
   "id": "0d9d014b",
   "metadata": {},
   "outputs": [],
   "source": [
    "@tool(name=\"evaluate_retrieval\", description=\"Based on the user's question and on the list of retrieved documents, analyze if they can answer the question\")",
    "def evaluate_retrieval(question: str, retrieved_docs: List[str]) -> EvaluationReport:",
    "    \"\"\"Assess if retrieved docs are enough to answer the question.\"\"\"",
    "    from lib.llm import LLM",
    "    from lib.parsers import PydanticOutputParser",
    "",
    "    llm = LLM(model=\"gpt-4o-mini\")",
    "    docs = \"\\n\".join(retrieved_docs)",
    "    prompt = (",
    "        \"Your task is to evaluate if the documents are enough to respond the query. \"",
    "        \"Give a detailed explanation, so it's possible to take an action to accept it or not.\\n\"",
    "        f\"# Question:\\n{question}\\n# Documents:\\n{docs}\\nRespond with JSON.\" )",
    "",
    "    ai_message = llm.invoke(prompt)",
    "    parser = PydanticOutputParser(model_class=EvaluationReport)",
    "    try:",
    "        report = parser.parse(ai_message)",
    "    except Exception:",
    "        # fallback simple parse",
    "        content = ai_message.content or \"\"",
    "        useful = \"yes\" in content.lower()",
    "        report = EvaluationReport(useful=useful, description=content)",
    "    return report",
    "",
    "@tool(name=\"game_web_search\", description=\"Semantic search: Finds most results in the vector DB\")",
    "def game_web_search(question: str) -> List[Dict]:",
    "    \"\"\"Perform a Tavily web search for additional information.\"\"\"",
    "    import requests"
   ]
  },
  {
   "cell_type": "markdown",
   "id": "c7935a26",
   "metadata": {},
   "source": [
    "#### Game Web Search Tool"
   ]
  },
  {
   "cell_type": "code",
   "execution_count": null,
   "id": "2ad698aa",
   "metadata": {},
   "outputs": [],
   "source": [
    "    if not api_key:",
    "        raise ValueError(\"Missing TAVILY_API_KEY\")",
    "    url = \"https://api.tavily.com/search\"",
    "    payload = {\"api_key\": api_key, \"query\": question, \"search_depth\": \"basic\"}",
    "    resp = requests.post(url, json=payload, timeout=10)",
    "    resp.raise_for_status()",
    "    data = resp.json()",
    "    return data.get(\"results\", [])",
    ""
   ]
  },
  {
   "cell_type": "markdown",
   "id": "df844b3b",
   "metadata": {},
   "source": [
    "### Agent"
   ]
  },
  {
   "cell_type": "code",
   "execution_count": null,
   "id": "31c56281",
   "metadata": {},
   "outputs": [],
   "source": [
    "agent = GameAgent()"
   ]
  },
  {
   "cell_type": "code",
   "execution_count": null,
   "id": "0ec23893",
   "metadata": {},
   "outputs": [],
   "source": [
    "agent.invoke(\"When Pok\u00e9mon Gold and Silver was released?\")",
    "agent.invoke(\"Which one was the first 3D platformer Mario game?\")",
    "agent.invoke(\"Was Mortal Kombat X realeased for Playstation 5?\")"
   ]
  },
  {
   "cell_type": "markdown",
   "id": "f0a55081",
   "metadata": {},
   "source": [
    "### (Optional) Advanced"
   ]
  },
  {
   "cell_type": "code",
   "execution_count": null,
   "id": "eb83fbb1",
   "metadata": {},
   "outputs": [],
   "source": [
    "# Agent already uses ShortTermMemory for session history\n"
   ]
  }
 ],
 "metadata": {
  "kernelspec": {
   "display_name": ".venv",
   "language": "python",
   "name": "python3"
  },
  "language_info": {
   "codemirror_mode": {
    "name": "ipython",
    "version": 3
   },
   "file_extension": ".py",
   "mimetype": "text/x-python",
   "name": "python",
   "nbconvert_exporter": "python",
   "pygments_lexer": "ipython3",
   "version": "3.11.10"
  }
 },
 "nbformat": 4,
 "nbformat_minor": 5
}